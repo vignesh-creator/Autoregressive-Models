{
 "cells": [
  {
   "cell_type": "code",
   "execution_count": 1,
   "id": "fc22b1fb",
   "metadata": {},
   "outputs": [],
   "source": [
    "import torch\n",
    "import torch.optim as optim\n",
    "import torch.utils.data as data\n",
    "import torch.nn as nn\n",
    "import torch.nn.functional as F\n",
    "import numpy as np\n",
    "device = torch.device('cuda' if torch.cuda.is_available() else 'cpu')\n",
    "import matplotlib.pyplot as plt\n",
    "import sys\n",
    "np.set_printoptions(threshold=sys.maxsize)"
   ]
  },
  {
   "cell_type": "code",
   "execution_count": 2,
   "id": "96858e55",
   "metadata": {},
   "outputs": [],
   "source": [
    "# Hyperparameters\n",
    "lr = 1e-3\n",
    "epochs = 500\n",
    "batch_size = 128"
   ]
  },
  {
   "cell_type": "code",
   "execution_count": 3,
   "id": "296666bb",
   "metadata": {},
   "outputs": [],
   "source": [
    "'''\n",
    "Let's build a custom dataset. In this, the samples are randomly initialised.\n",
    "I.e, the dataset contains random numbers between 1 to 15\n",
    "'''\n",
    "classes = 15  # 1 to 15\n",
    "data_size = 5000 #size of data\n",
    "rand = np.random.RandomState(0)\n",
    "samples = 0.4 + 0.1 * rand.randn(data_size)\n",
    "data_values = np.digitize(samples, np.linspace(0.0, 1.0, 15))\n",
    "data_values = data_values.astype('int32')\n",
    "# This is basaically a histogram data...."
   ]
  },
  {
   "cell_type": "code",
   "execution_count": 4,
   "id": "8d81edaa",
   "metadata": {},
   "outputs": [
    {
     "name": "stdout",
     "output_type": "stream",
     "text": [
      "(4000, 1) (1000, 1)\n"
     ]
    }
   ],
   "source": [
    "'''splitting the data into train and test sets.\n",
    "let's split data into 80% of train and 20% of test\n",
    "'''\n",
    "split = int(0.8*data_size)\n",
    "train_set = data_values[:split]\n",
    "test_set = data_values[split:]\n",
    "train_set = train_set.reshape(train_set.shape[0],1)\n",
    "test_set = test_set.reshape(test_set.shape[0],1)\n",
    "train_set_shape = train_set.shape[0]\n",
    "test_set_shape = test_set.shape[0]\n",
    "print(train_set.shape,test_set.shape)"
   ]
  },
  {
   "cell_type": "code",
   "execution_count": 8,
   "id": "5e0d1991",
   "metadata": {},
   "outputs": [
    {
     "data": {
      "text/plain": [
       "(array([0.     , 0.0005 , 0.00475, 0.021  , 0.10125, 0.2165 , 0.28175,\n",
       "        0.22675, 0.1075 , 0.034  , 0.005  , 0.001  , 0.     , 0.     ]),\n",
       " array([ 0,  1,  2,  3,  4,  5,  6,  7,  8,  9, 10, 11, 12, 13, 14]),\n",
       " <BarContainer object of 14 artists>)"
      ]
     },
     "execution_count": 8,
     "metadata": {},
     "output_type": "execute_result"
    },
    {
     "data": {
      "image/png": "[encoded data removed]",
      "text/plain": [
       "<Figure size 432x288 with 1 Axes>"
      ]
     },
     "metadata": {
      "needs_background": "light"
     },
     "output_type": "display_data"
    }
   ],
   "source": [
    "#lets check distribution of train data\n",
    "distribution_length = classes\n",
    "plt.hist(train_set, bins=np.arange(distribution_length) , label='train data', density=True)"
   ]
  },
  {
   "cell_type": "code",
   "execution_count": 9,
   "id": "5928d27d",
   "metadata": {},
   "outputs": [],
   "source": [
    "train_loader = data.DataLoader(train_set, batch_size=batch_size, shuffle=False)\n",
    "test_loader = data.DataLoader(test_set, batch_size=batch_size,shuffle = False)"
   ]
  },
  {
   "cell_type": "code",
   "execution_count": 10,
   "id": "ac08488c",
   "metadata": {},
   "outputs": [],
   "source": [
    "#Histogram model\n",
    "class Histogram(nn.Module):\n",
    "    def __init__(self,classes):\n",
    "        super().__init__()\n",
    "        self.classes = classes\n",
    "        self.weights = nn.Parameter(torch.zeros(self.classes,1), requires_grad=True)\n",
    "\n",
    "    def loss(self, x):\n",
    "        predicted = self.weights.repeat(x.shape[0],1)\n",
    "        predicted = predicted.reshape(x.shape[0],self.classes)\n",
    "        x = x.view(x.shape[0])\n",
    "        return F.cross_entropy(predicted, x.long()),self.weights"
   ]
  },
  {
   "cell_type": "code",
   "execution_count": 11,
   "id": "5ce32a55",
   "metadata": {},
   "outputs": [],
   "source": [
    "model = Histogram(classes).to(device)"
   ]
  },
  {
   "cell_type": "code",
   "execution_count": 12,
   "id": "b3d04b46",
   "metadata": {},
   "outputs": [],
   "source": [
    "optimizer = torch.optim.Adam(model.parameters(), lr=lr)"
   ]
  },
  {
   "cell_type": "code",
   "execution_count": 13,
   "id": "20251291",
   "metadata": {},
   "outputs": [],
   "source": [
    "def train(model,train_loader):\n",
    "    model.train()\n",
    "    train_loss = []\n",
    "    for i in range(epochs):\n",
    "        cost = 0\n",
    "        for data in train_loader:\n",
    "            data = data.to(device)\n",
    "            loss,parameters = model.loss(data)\n",
    "            optimizer.zero_grad()\n",
    "            loss.backward()\n",
    "            optimizer.step()\n",
    "            train_loss.append(loss.item())\n",
    "            cost = cost + loss.item()\n",
    "        if i% 25 == 0:\n",
    "            print(\"For epoch \",i,\"cost is:\",cost/train_set_shape)\n",
    "    return train_loss,parameters"
   ]
  },
  {
   "cell_type": "code",
   "execution_count": 14,
   "id": "37d1c201",
   "metadata": {},
   "outputs": [
    {
     "name": "stdout",
     "output_type": "stream",
     "text": [
      "For epoch  0 cost is: 0.021520530700683594\n",
      "For epoch  25 cost is: 0.016774381816387178\n",
      "For epoch  50 cost is: 0.015154680877923965\n",
      "For epoch  75 cost is: 0.014595046490430832\n",
      "For epoch  100 cost is: 0.014360266953706742\n",
      "For epoch  125 cost is: 0.01424303525686264\n",
      "For epoch  150 cost is: 0.014177270889282226\n",
      "For epoch  175 cost is: 0.014137110143899918\n",
      "For epoch  200 cost is: 0.01411102631688118\n",
      "For epoch  225 cost is: 0.014093447595834733\n",
      "For epoch  250 cost is: 0.014081376880407333\n",
      "For epoch  275 cost is: 0.014073000311851502\n",
      "For epoch  300 cost is: 0.014067140012979507\n",
      "For epoch  325 cost is: 0.014063010275363922\n",
      "For epoch  350 cost is: 0.014060083359479903\n",
      "For epoch  375 cost is: 0.014058000981807709\n",
      "For epoch  400 cost is: 0.014056515693664551\n",
      "For epoch  425 cost is: 0.014055454313755036\n",
      "For epoch  450 cost is: 0.014054694801568984\n",
      "For epoch  475 cost is: 0.014054151266813279\n"
     ]
    }
   ],
   "source": [
    "train_loss,parameters = train(model,train_loader)"
   ]
  },
  {
   "cell_type": "code",
   "execution_count": 15,
   "id": "5b8cab93",
   "metadata": {},
   "outputs": [
    {
     "data": {
      "text/plain": [
       "[<matplotlib.lines.Line2D at 0x1ff85dce7c0>]"
      ]
     },
     "execution_count": 15,
     "metadata": {},
     "output_type": "execute_result"
    },
    {
     "data": {
      "image/png": "[encoded data removed]",
      "text/plain": [
       "<Figure size 432x288 with 1 Axes>"
      ]
     },
     "metadata": {
      "needs_background": "light"
     },
     "output_type": "display_data"
    }
   ],
   "source": [
    "plt.plot(train_loss)"
   ]
  },
  {
   "cell_type": "code",
   "execution_count": 16,
   "id": "99823c73",
   "metadata": {},
   "outputs": [],
   "source": [
    "def test(model,test_loader):\n",
    "    with torch.no_grad():\n",
    "        cost = 0\n",
    "        for data in test_loader:\n",
    "            data = data.to(device)\n",
    "            loss,parameters = model.loss(data)\n",
    "            cost += loss.item()\n",
    "        print(\"Test cost is\",cost/test_set_shape)"
   ]
  },
  {
   "cell_type": "code",
   "execution_count": 17,
   "id": "3a077edf",
   "metadata": {},
   "outputs": [
    {
     "name": "stdout",
     "output_type": "stream",
     "text": [
      "Test cost is 0.01420771086215973\n"
     ]
    }
   ],
   "source": [
    "test(model,test_loader)"
   ]
  },
  {
   "cell_type": "code",
   "execution_count": 18,
   "id": "35dc977b",
   "metadata": {},
   "outputs": [],
   "source": [
    "distribution = F.softmax(parameters, dim=0)\n",
    "distribution = distribution.detach().cpu().numpy()"
   ]
  },
  {
   "cell_type": "code",
   "execution_count": 19,
   "id": "2dbb2dc9",
   "metadata": {},
   "outputs": [
    {
     "data": {
      "image/png": "[encoded data removed]",
      "text/plain": [
       "<Figure size 432x288 with 1 Axes>"
      ]
     },
     "metadata": {
      "needs_background": "light"
     },
     "output_type": "display_data"
    }
   ],
   "source": [
    "distribution_length = len(distribution)\n",
    "plt.hist(train_set, bins=np.arange(distribution_length) - 0.5, label='train data', density=True)\n",
    "x = np.linspace(-0.5, distribution_length - 0.5, 990)\n",
    "y = distribution.repeat(1000 // distribution_length)\n",
    "plt.plot(x, y, label='learned distribution')\n",
    "plt.title('Fitting a Histogram')\n",
    "plt.xlabel('x')\n",
    "plt.ylabel('Probability')\n",
    "plt.legend()\n",
    "plt.show()"
   ]
  },
  {
   "cell_type": "code",
   "execution_count": 20,
   "id": "54de88f0",
   "metadata": {},
   "outputs": [
    {
     "data": {
      "text/plain": [
       "'\\nThis is a part of the assignment of the course Deep Unsupervised Learning by Pieter Abbel(\"https://sites.google.com/view/berkeley-cs294-158-sp20/home\" )\\nEntire code is written by myself except those visualisations. The visualisations are taken from the course(In the course assignment, \\nit is mentioned that visualisation plots are given along with Homework problem statements, so no need to code them explicitly)\\n'"
      ]
     },
     "execution_count": 20,
     "metadata": {},
     "output_type": "execute_result"
    }
   ],
   "source": [
    "'''\n",
    "This is a part of the assignment of the course Deep Unsupervised Learning by Pieter Abbel(\"https://sites.google.com/view/berkeley-cs294-158-sp20/home\" )\n",
    "Entire code is written by myself except those visualisations. The visualisations are taken from the course(In the course assignment, \n",
    "it is mentioned that visualisation plots are given along with Homework problem statements, so no need to code them explicitly)\n",
    "'''\n",
    "# Special thanks to Pieter Abbeel and the entire team of CS294-158-SP20"
   ]
  },
  {
   "cell_type": "code",
   "execution_count": null,
   "id": "c36ed998",
   "metadata": {},
   "outputs": [],
   "source": []
  }
 ],
 "metadata": {
  "kernelspec": {
   "display_name": "Python 3",
   "language": "python",
   "name": "python3"
  },
  "language_info": {
   "codemirror_mode": {
    "name": "ipython",
    "version": 3
   },
   "file_extension": ".py",
   "mimetype": "text/x-python",
   "name": "python",
   "nbconvert_exporter": "python",
   "pygments_lexer": "ipython3",
   "version": "3.8.5"
  }
 },
 "nbformat": 4,
 "nbformat_minor": 5
}
